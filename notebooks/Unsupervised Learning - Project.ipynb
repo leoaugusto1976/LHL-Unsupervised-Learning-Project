{
 "cells": [
  {
   "cell_type": "markdown",
   "id": "9f566e09",
   "metadata": {},
   "source": [
    "# Unsupervised Learning - Project"
   ]
  },
  {
   "cell_type": "markdown",
   "id": "dad75ccd",
   "metadata": {},
   "source": [
    "In this Project, we are going to perform a full unsupervised learning machine learning project on a \"Wholesale Data\" dataset. The dataset refers to clients of a wholesale distributor. It includes the annual spending in monetary units (m.u.) on diverse product categories\n",
    "\n",
    "[Kaggle Link](https://www.kaggle.com/datasets/binovi/wholesale-customers-data-set)"
   ]
  },
  {
   "cell_type": "markdown",
   "id": "e30d204b",
   "metadata": {},
   "source": [
    "### Notebook: [MachineLearning_UnSupervised_Fonseca_Leonardo.ipynb](https://github.com/leoaugusto1976/LHL-Unsupervised-Learning-Project/blob/main/notebooks/MachineLearning_UnSupervised_Fonseca_Leonardo.ipynb)\n",
    "\n",
    "> The file contains dedicated code sections for each part below, making it easy to identify and locate each item. Each part is highlighted for quick and convenient reference."
   ]
  },
  {
   "cell_type": "markdown",
   "id": "c5e57f31",
   "metadata": {},
   "source": [
    "# Part I : EDA - Exploratory Data Analysis & Pre-processing"
   ]
  },
  {
   "cell_type": "markdown",
   "id": "53c827a5",
   "metadata": {},
   "source": [
    "The given dataset seems to be a grocery sales dataset containing information about various products sold by a grocery store. To perform an exploratory data analysis (EDA) on this dataset, we can perform the following tasks:\n",
    "\n",
    "- Data Import: Import the dataset into a statistical software tool such as Python or R.\n",
    "- Data Cleaning: Check the dataset for any missing or incorrect data and clean the dataset accordingly. This may involve removing or imputing missing data or correcting any obvious errors.\n",
    "Data Description: Generate summary statistics such as mean, median, and standard deviation for each column of the dataset. This will help in understanding the distribution of data in each column.\n",
    "- Data Visualization: Create various visualizations such as histograms, box plots, scatter plots, and heatmaps to understand the relationships and trends between the different variables in the dataset. For example, we can create a scatter plot between the \"Fresh\" and \"Milk\" variables to see if there is any correlation between them.\n",
    "- Outlier Detection: Check for any outliers in the dataset and determine whether they are valid or erroneous data points.\n",
    "- Correlation Analysis: Calculate the correlation between different variables in the dataset to determine which variables are highly correlated and which ones are not. For example, we can calculate the correlation between \"Grocery\" and \"Detergents_Paper\" to see if there is any relationship between these two variables.\n",
    "- Data Transformation: If necessary, transform the data by standardizing or normalizing the variables to make them comparable across different scales.\n",
    "- Feature Selection: Identify the most important features or variables that contribute the most to the overall variance in the dataset. This can be done using various feature selection techniques such as principal component analysis (PCA) or random forest regression."
   ]
  },
  {
   "cell_type": "markdown",
   "metadata": {},
   "source": [
    "### `RESULT`"
   ]
  },
  {
   "cell_type": "markdown",
   "metadata": {},
   "source": [
    "- The correlation heatmap is showing the correlation coefficients between different features in the dataset. \n",
    "\n",
    "    - **Grocery and Detergents_paper (0.85):**\n",
    "\n",
    "        A correlation coefficient of 0.85 indicates a strong positive linear relationship between \"Grocery\" and \"Detergents_Paper\".\n",
    "        It suggests that as the spending on groceries increases, there's a high probability that spending on detergents and paper products also increases, and vice versa.\n",
    "        These two categories may have similar purchasing patterns or might often be bought together.\n",
    "\n",
    "    - **Grocery and Milk (0.73):**\n",
    "\n",
    "        A correlation coefficient of 0.73 indicates a moderately strong positive linear relationship between \"Grocery\" and \"Milk\".\n",
    "        It suggests that there's some level of association between spending on groceries and spending on milk products, but it's not as strong as the correlation between groceries and detergents/paper.\n",
    "\n",
    "    - **Detergent_paper and Milk (0.68):**\n",
    "\n",
    "        A correlation coefficient of 0.68 indicates a moderate positive linear relationship between \"Detergents_Paper\" and \"Milk\".\n",
    "        It suggests a somewhat similar trend in purchasing patterns between these two categories but is not as strong as the correlation between groceries and detergents/paper.\n",
    "\n",
    "    These correlations can help in understanding how certain categories of products might be related in consumer purchasing behavior. The stronger the positive correlation, the more likely those categories are bought together or exhibit similar patterns in purchases. It's important to note that correlation doesn't imply causation; it only shows the strength and direction of a linear relationship between two variables."
   ]
  },
  {
   "cell_type": "markdown",
   "id": "fd472b2a",
   "metadata": {},
   "source": [
    "# Part II - KMeans Clustering"
   ]
  },
  {
   "cell_type": "markdown",
   "id": "54982ce3",
   "metadata": {},
   "source": [
    "The objective of the analysis is to group similar products together into clusters based on their attributes such as fresh, milk, grocery, frozen, detergents_paper, and delicatessen. To perform the k-means clustering analysis, you will need to pre-process the dataset, determine the optimal number of clusters, initialize the centroids, assign data points to clusters, update the centroids, and repeat until convergence."
   ]
  },
  {
   "cell_type": "markdown",
   "metadata": {},
   "source": [
    "### `RESULT => Analysis for Grocery and Detergents_Paper`"
   ]
  },
  {
   "cell_type": "markdown",
   "metadata": {},
   "source": [
    "Although a strong correlation exists between 'Grocery' and 'Detergents_Paper', an intriguing observation emerges when considering the data split by region and visualized using KMeans Clustering. It becomes evident that distinct behaviors emerge across regions, suggesting that this strong correlation might manifest differently depending on the specific region under analysis. In essence, the high correlation between 'Grocery' and 'Detergents_Paper' suggests a potential relationship in customer spending behavior, but the clustering results across different regions highlight the need for deeper analysis to understand the nuances and variations within these customer segments."
   ]
  },
  {
   "cell_type": "markdown",
   "id": "44f48cda",
   "metadata": {},
   "source": [
    "# Part III - Hierarchical Clustering "
   ]
  },
  {
   "cell_type": "markdown",
   "id": "18ba2210",
   "metadata": {},
   "source": [
    "Hierarchical clustering is a popular unsupervised machine learning algorithm that is used to identify patterns and group similar data points together in a hierarchy. The algorithm works by iteratively merging or splitting clusters based on a similarity measure until a dendrogram is formed.\n",
    "\n",
    "To perform hierarchical clustering analysis, you will need to pre-process the dataset, determine the optimal number of clusters using techniques such as dendrogram."
   ]
  },
  {
   "cell_type": "markdown",
   "metadata": {},
   "source": [
    "### `RESULT => Analysis for Grocery and Milk`"
   ]
  },
  {
   "cell_type": "markdown",
   "metadata": {},
   "source": [
    "Despite observing a moderate, yet significant correlation between 'Grocery' and 'Milk' (0.73), the Hierarchical Clustering results displayed distinct behaviors across different regions. The distribution of data points into clusters diverged notably across regions, signifying that this moderate correlation might exhibit varying patterns contingent upon the specific region under analysis."
   ]
  },
  {
   "cell_type": "markdown",
   "id": "dd516495",
   "metadata": {},
   "source": [
    "# Part IV - PCA"
   ]
  },
  {
   "cell_type": "markdown",
   "id": "0a7cf638",
   "metadata": {},
   "source": [
    "In this section you are going to perform principal component analysis (PCA) to draw conclusions about the underlying structure of the wholesale customer data. Since using PCA on a dataset calculates the dimensions which best maximize variance, we will find which compound combinations of features best describe customers."
   ]
  },
  {
   "cell_type": "markdown",
   "metadata": {},
   "source": [
    "### `RESULT => Analysis for Detergent_Papers and Milk`"
   ]
  },
  {
   "cell_type": "markdown",
   "metadata": {},
   "source": [
    "Utilizing PCA to analyze 'Detergents_Paper' and 'Milk' resulted in outcomes akin to those from K-Means and Hierarchical Clustering. Notably, the distribution of data points into clusters showcased considerable variations across regions. These distinctions underscore diverse customer behaviors and purchasing tendencies regarding 'Detergents_Paper' and 'Milk' among different regions."
   ]
  },
  {
   "cell_type": "markdown",
   "id": "193765ae",
   "metadata": {},
   "source": [
    "# Part V - Conclusion"
   ]
  },
  {
   "cell_type": "markdown",
   "id": "1fc26f00",
   "metadata": {},
   "source": [
    "From the model you developed and the exploratory data analysis (EDA) conducted, generate four bullet points as your findings."
   ]
  },
  {
   "cell_type": "markdown",
   "id": "ebdd1c36",
   "metadata": {},
   "source": [
    "Region 3 notably stands out with a higher number of occurrences, which is indicative of the available data after thorough Data Cleaning. Specifically, Region 1 comprises 60 occurrences, Region 2 has 33, and Region 3 dominates with 239 occurrences.\n",
    "\n",
    "The evaluation of the three cases with higher correlations was conducted concerning regions. This approach aimed to verify whether the observed correlations hold true when analyzing data separately by region. Despite disparities in occurrence numbers across regions, this assessment sought to confirm the consistency of correlations.\n",
    "\n",
    "In the first case, examining the strong correlation between Grocery and Detergents Paper (0.85) revealed distinctive behavioral patterns in Regions 2 and 3. These regions exhibited similar clustering behavior, visually apparent through graph colors. However, Region 1 showcased a different behavior, notably in Cluster 1.\n",
    "\n",
    "Exploring the moderate correlation between Grocery and Milk (0.73) revealed intriguing insights. Regions 1 and 2 demonstrated similar behavioral patterns, contrasting with Region 3.\n",
    "\n",
    "Lastly, assessing the correlation between Detergents Paper and Milk (0.68) unveiled noticeable differences in behavior among Regions. The visual analysis of graphs showcased dissimilar behaviors across regions, indicating a weaker correlation between these variables when evaluated separately by region.\n",
    "\n",
    "While a comprehensive comparative analysis between regions necessitates more extensive data and time, leveraging the dataset's insights, the company could contemplate targeted marketing strategies tailored to diverse customer segments across regions. This strategic approach aims to cater to each region's unique needs, thereby unlocking potential growth opportunities. By focusing on customer-centric marketing strategies aligned with regional preferences, the company can effectively expand its customer base, subsequently fostering increased revenue and profits."
   ]
  },
  {
   "cell_type": "markdown",
   "metadata": {},
   "source": [
    "## Insights and Explanations from Different Methods Used:\n",
    "\n",
    "### KMeans Clustering:\n",
    "- **Insight:** KMeans divides data into distinct clusters based on similarities.\n",
    "- **Explanation:** The Elbow Method identified optimal cluster counts, helping segment data into meaningful clusters. Visualizations of clusters by region revealed distinct customer behaviors and purchasing patterns.\n",
    "\n",
    "### Hierarchical Clustering:\n",
    "- **Insight:** Hierarchical Clustering constructs a hierarchy of clusters.\n",
    "- **Explanation:** Visualizing clusters using Hierarchical Clustering showcased the relationships between data points and identified potential niche markets or customer segments within regions.\n",
    "\n",
    "### PCA (Principal Component Analysis):\n",
    "- **Insight:** PCA reduces data dimensions while preserving information.\n",
    "- **Explanation:** PCA visualizations provided a reduced-dimensional view of customer spending patterns. The scatter plots showed how 'Detergents_Paper' and 'Milk' contribute to variance, highlighting varied customer segments across regions.\n",
    "\n",
    "### Findings and Conclusions:\n",
    "- **Insight:** Different regions exhibit diverse customer behaviors and preferences.\n",
    "- **Explanation:** The disparity in occurrences between regions influenced clustering results, indicating unique market preferences. Tailoring marketing strategies by segment and region could unlock growth opportunities by addressing specific regional needs.\n",
    "\n",
    "### Implications for Business Decision-making:\n",
    "- **Insight:** Targeted marketing based on regional preferences can drive growth.\n",
    "- **Explanation:** Understanding regional variations allows for focused marketing strategies that resonate with customer preferences. This customer-centric approach could lead to increased customer engagement, expanding the customer base, and ultimately driving revenue growth.\n"
   ]
  }
 ],
 "metadata": {
  "kernelspec": {
   "display_name": "Python 3 (ipykernel)",
   "language": "python",
   "name": "python3"
  },
  "language_info": {
   "codemirror_mode": {
    "name": "ipython",
    "version": 3
   },
   "file_extension": ".py",
   "mimetype": "text/x-python",
   "name": "python",
   "nbconvert_exporter": "python",
   "pygments_lexer": "ipython3",
   "version": "3.8.16"
  }
 },
 "nbformat": 4,
 "nbformat_minor": 5
}
